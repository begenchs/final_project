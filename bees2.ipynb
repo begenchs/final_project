{
 "cells": [
  {
   "cell_type": "code",
   "execution_count": 1,
   "id": "straight-starter",
   "metadata": {},
   "outputs": [],
   "source": [
    "import pickle\n",
    "from pathlib import Path\n",
    "from skimage import io\n",
    "\n",
    "import pandas as pd\n",
    "import numpy as np\n",
    "\n",
    "import matplotlib.pyplot as plt\n",
    "%matplotlib inline\n",
    "\n",
    "from sklearn.preprocessing import StandardScaler\n",
    "from sklearn.model_selection import train_test_split\n",
    "from sklearn.metrics import classification_report\n",
    "\n",
    "import keras\n",
    "\n",
    "import tensorflow as tf\n",
    "\n",
    "from keras.models import Sequential\n",
    "\n",
    "from keras.layers import Dense, Dropout, Flatten, Conv2D, MaxPooling2D"
   ]
  },
  {
   "cell_type": "code",
   "execution_count": 2,
   "id": "prescribed-burke",
   "metadata": {},
   "outputs": [
    {
     "name": "stdout",
     "output_type": "stream",
     "text": [
      "0.0    827\n",
      "1.0    827\n",
      "Name: genus, dtype: int64\n",
      "(1654, 1)\n"
     ]
    }
   ],
   "source": [
    "labels = pd.read_csv('datasets/labels.csv', index_col=0)\n",
    "\n",
    "print(labels.genus.value_counts())\n",
    "\n",
    "y = labels.genus.values\n",
    "\n",
    "print(labels.shape)"
   ]
  },
  {
   "cell_type": "code",
   "execution_count": 3,
   "id": "classical-wrist",
   "metadata": {},
   "outputs": [
    {
     "name": "stdout",
     "output_type": "stream",
     "text": [
      "Example image has shape:  (50, 50, 3)\n",
      "RGB values for the top left pixel are: [127 108  95]\n"
     ]
    },
    {
     "data": {
      "image/png": "[encoded data removed]",
      "text/plain": [
       "<Figure size 432x288 with 1 Axes>"
      ]
     },
     "metadata": {
      "needs_background": "light"
     },
     "output_type": "display_data"
    }
   ],
   "source": [
    "example_image = io.imread('datasets/{}.jpg'.format(labels.index[0]))\n",
    "\n",
    "plt.imshow(example_image)\n",
    "\n",
    "print('Example image has shape: ', example_image.shape)\n",
    "                    \n",
    "print('RGB values for the top left pixel are:', example_image[0, 0, :])"
   ]
  },
  {
   "cell_type": "code",
   "execution_count": 4,
   "id": "caroline-danish",
   "metadata": {},
   "outputs": [
    {
     "name": "stdout",
     "output_type": "stream",
     "text": [
      "(1654, 50, 50, 3)\n"
     ]
    }
   ],
   "source": [
    "ss = StandardScaler()\n",
    "\n",
    "image_list = []\n",
    "for i in labels.index:\n",
    "    \n",
    "    img = io.imread('datasets/{}.jpg'.format(i)).astype(np.float64)\n",
    "    \n",
    "    # for each channel, applying standard scaler's fit_transform method\n",
    "    for channel in range(img.shape[2]):\n",
    "        img[:, :, channel] = ss.fit_transform(img[:, :, channel])\n",
    "        \n",
    "    \n",
    "    image_list.append(img)\n",
    "    \n",
    "X = np.array(image_list)\n",
    "\n",
    "print(X.shape)"
   ]
  },
  {
   "cell_type": "code",
   "execution_count": 5,
   "id": "integral-newton",
   "metadata": {},
   "outputs": [
    {
     "name": "stdout",
     "output_type": "stream",
     "text": [
      "x_train shape: (793, 50, 50, 3)\n",
      "793 train samples\n",
      "530 test samples\n",
      "331 eval samples\n"
     ]
    }
   ],
   "source": [
    "x_interim, x_eval, y_interim, y_eval = train_test_split(X, y, test_size=0.2, random_state=42)\n",
    "\n",
    "x_train, x_test, y_train, y_test = train_test_split(x_interim,y_interim, test_size=0.4, random_state=42)\n",
    "                                           \n",
    "print('x_train shape:', x_train.shape)\n",
    "print(x_train.shape[0], 'train samples')\n",
    "print(x_test.shape[0], 'test samples')\n",
    "print(x_eval.shape[0], 'eval samples')"
   ]
  },
  {
   "cell_type": "code",
   "execution_count": 6,
   "id": "august-print",
   "metadata": {},
   "outputs": [],
   "source": [
    "num_classes = 1\n",
    "\n",
    "model = Sequential()\n",
    "\n",
    "# first convolutional layer with 32 filters\n",
    "model.add(Conv2D(32, kernel_size=(3, 3), activation='relu', input_shape=(50, 50, 3)))\n",
    "\n",
    "# add a second 2D convolutional layer with 64 filters\n",
    "model.add(Conv2D(64, kernel_size=(3, 3), activation='relu'))"
   ]
  },
  {
   "cell_type": "code",
   "execution_count": 7,
   "id": "living-terror",
   "metadata": {},
   "outputs": [
    {
     "name": "stdout",
     "output_type": "stream",
     "text": [
      "Model: \"sequential\"\n",
      "_________________________________________________________________\n",
      "Layer (type)                 Output Shape              Param #   \n",
      "=================================================================\n",
      "conv2d (Conv2D)              (None, 48, 48, 32)        896       \n",
      "_________________________________________________________________\n",
      "conv2d_1 (Conv2D)            (None, 46, 46, 64)        18496     \n",
      "_________________________________________________________________\n",
      "max_pooling2d (MaxPooling2D) (None, 23, 23, 64)        0         \n",
      "_________________________________________________________________\n",
      "conv2d_2 (Conv2D)            (None, 21, 21, 64)        36928     \n",
      "_________________________________________________________________\n",
      "dropout (Dropout)            (None, 21, 21, 64)        0         \n",
      "_________________________________________________________________\n",
      "flatten (Flatten)            (None, 28224)             0         \n",
      "_________________________________________________________________\n",
      "dense (Dense)                (None, 128)               3612800   \n",
      "_________________________________________________________________\n",
      "dropout_1 (Dropout)          (None, 128)               0         \n",
      "_________________________________________________________________\n",
      "preds (Dense)                (None, 1)                 129       \n",
      "=================================================================\n",
      "Total params: 3,669,249\n",
      "Trainable params: 3,669,249\n",
      "Non-trainable params: 0\n",
      "_________________________________________________________________\n"
     ]
    }
   ],
   "source": [
    "# reducing dimensionality through max pooling\n",
    "model.add(MaxPooling2D(pool_size=(2, 2)))\n",
    "\n",
    "# third convolutional layer with 64 filters\n",
    "model.add(Conv2D(64, kernel_size=(3, 3), activation='relu'))\n",
    "\n",
    "# to prevent over fitting\n",
    "model.add(Dropout(0.25))\n",
    "\n",
    "# necessary flatten step preceeding dense layer\n",
    "model.add(Flatten())\n",
    "\n",
    "# fully connected layer\n",
    "model.add(Dense(128, activation='relu'))\n",
    "\n",
    "# add additional dropout to prevent overfitting\n",
    "model.add(Dropout(0.5))\n",
    "\n",
    "# prediction layers\n",
    "model.add(Dense(num_classes, activation='sigmoid', name='preds'))\n",
    "\n",
    "# show model summary\n",
    "model.summary()"
   ]
  },
  {
   "cell_type": "code",
   "execution_count": 8,
   "id": "better-suspension",
   "metadata": {},
   "outputs": [],
   "source": [
    "# model.compile(loss=keras.losses.binary_crossentropy, optimizer=keras.optimizers.SGD(lr=0.001), metrics=['accuracy'])\n",
    "\n",
    "# # my_callbacks = [\n",
    "# #     tf.keras.callbacks.EarlyStopping(patience=2),\n",
    "# #     tf.keras.callbacks.ModelCheckpoint(filepath='model.{epoch:02d}-{accuracy:.2f}.h5'),\n",
    "# #     tf.keras.callbacks.TensorBoard(log_dir='./logs'),\n",
    "# # ]\n",
    "\n",
    "# model.fit(x_train[:793,:,:,:],y_train[:793],epochs=200,verbose=1,validation_data=(x_test[:530, :, :, :], y_test[:530]))\n",
    "    \n",
    "   \n",
    "    \n",
    "    \n",
    "    "
   ]
  },
  {
   "cell_type": "code",
   "execution_count": 9,
   "id": "iraqi-korean",
   "metadata": {},
   "outputs": [
    {
     "name": "stdout",
     "output_type": "stream",
     "text": [
      "WARNING:tensorflow:Error in loading the saved optimizer state. As a result, your model is starting with a freshly initialized optimizer.\n"
     ]
    }
   ],
   "source": [
    "model = keras.models.load_model('trained_model.h5')"
   ]
  },
  {
   "cell_type": "code",
   "execution_count": 10,
   "id": "fewer-cardiff",
   "metadata": {},
   "outputs": [],
   "source": [
    "model.compile(loss=keras.losses.binary_crossentropy, optimizer=keras.optimizers.SGD(lr=0.001), metrics=['accuracy'])"
   ]
  },
  {
   "cell_type": "code",
   "execution_count": 11,
   "id": "operational-baltimore",
   "metadata": {},
   "outputs": [
    {
     "name": "stdout",
     "output_type": "stream",
     "text": [
      "Test set, loss: 0.59632807970047\n",
      "Test set, accuracy: 0.7245283126831055\n",
      "\n",
      "Evaluation set, loss: 0.5893811583518982\n",
      "Evaluation set, accuracy: 0.6918429136276245\n"
     ]
    }
   ],
   "source": [
    "score = model.evaluate(x_test, y_test, verbose=0)\n",
    "print('Test set, loss:', score[0])\n",
    "print('Test set, accuracy:', score[1])\n",
    "\n",
    "print(\"\")\n",
    "\n",
    "eval_score = model.evaluate(x_eval, y_eval, verbose=0)\n",
    "\n",
    "print('Evaluation set, loss:', eval_score[0])\n",
    "print('Evaluation set, accuracy:', eval_score[1])"
   ]
  },
  {
   "cell_type": "code",
   "execution_count": 12,
   "id": "comfortable-diamond",
   "metadata": {},
   "outputs": [
    {
     "name": "stdout",
     "output_type": "stream",
     "text": [
      "dict_keys(['val_loss', 'val_acc', 'loss', 'acc'])\n"
     ]
    },
    {
     "data": {
      "image/png": "[encoded data removed]",
      "text/plain": [
       "<Figure size 432x288 with 2 Axes>"
      ]
     },
     "metadata": {
      "needs_background": "light"
     },
     "output_type": "display_data"
    }
   ],
   "source": [
    "# load history\n",
    "with open('model_history.pkl', 'rb') as f:\n",
    "    trained_cnn_history = pickle.load(f)\n",
    "\n",
    "# print keys for pretrained_cnn_history dict\n",
    "print(trained_cnn_history.keys())\n",
    "\n",
    "fig = plt.figure(1)\n",
    "plt.subplot(211)\n",
    "# plot the validation accuracy\n",
    "plt.plot(trained_cnn_history['val_acc'])\n",
    "plt.title('Validation accuracy and loss')\n",
    "plt.ylabel('Accuracy')\n",
    "plt.subplot(212)\n",
    "# plot the validation loss\n",
    "plt.plot(trained_cnn_history['val_loss'], 'r')\n",
    "plt.xlabel('Epoch')\n",
    "plt.ylabel('Loss value');"
   ]
  },
  {
   "cell_type": "code",
   "execution_count": null,
   "id": "rural-farming",
   "metadata": {},
   "outputs": [],
   "source": []
  }
 ],
 "metadata": {
  "kernelspec": {
   "display_name": "Python 3",
   "language": "python",
   "name": "python3"
  },
  "language_info": {
   "codemirror_mode": {
    "name": "ipython",
    "version": 3
   },
   "file_extension": ".py",
   "mimetype": "text/x-python",
   "name": "python",
   "nbconvert_exporter": "python",
   "pygments_lexer": "ipython3",
   "version": "3.8.3"
  }
 },
 "nbformat": 4,
 "nbformat_minor": 5
}
